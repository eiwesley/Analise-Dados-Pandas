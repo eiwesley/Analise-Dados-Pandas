{
 "cells": [
  {
   "cell_type": "code",
   "execution_count": 48,
   "id": "7f1757fd",
   "metadata": {},
   "outputs": [],
   "source": [
    "import pandas as pd\n",
    "#importando os arquivos\n",
    "vendas_df = pd.read_csv(r'src/Contoso - Vendas  - 2017.csv', sep=';')\n",
    "clientes_df = pd.read_csv(r'src/Contoso - Clientes.csv', sep=';')\n",
    "produtos_df = pd.read_csv(r'src/Contoso - Cadastro Produtos.csv', sep=';')\n",
    "lojas_df = pd.read_csv(r'src/Contoso - Lojas.csv', sep=';')\n",
    "promocoes_df = pd.read_csv(r'src/Contoso - Promocoes.csv', sep=';')\n",
    "\n",
    "#limpando apenas as colunas que queremos\n",
    "clientes_df = clientes_df[['ID Cliente', 'E-mail']]\n",
    "produtos_df = produtos_df[['ID Produto', 'Categoria']]\n",
    "lojas_df = lojas_df[['ID Loja', 'Nome da Loja']]\n",
    "\n",
    "#mesclando e renomeando os dataframes\n",
    "vendas_df = vendas_df.merge(produtos_df, on='ID Produto')\n",
    "vendas_df = vendas_df.merge(lojas_df, on='ID Loja')\n",
    "vendas_df = vendas_df.merge(clientes_df, on='ID Cliente')\n",
    "vendas_df = vendas_df.rename(columns={'E-mail': 'E-mail do Cliente'})\n",
    "#display(vendas_df)"
   ]
  },
  {
   "cell_type": "markdown",
   "id": "629c423e",
   "metadata": {},
   "source": [
    "## Aula 06"
   ]
  },
  {
   "cell_type": "raw",
   "id": "0c836195",
   "metadata": {},
   "source": [
    "frequencia_clientes = vendas_df['E-mail do Cliente'].value_counts()\n",
    "display(frequencia_clientes)\n",
    "frequencia_clientes[:5].plot(figsize=(15,5))"
   ]
  },
  {
   "cell_type": "raw",
   "id": "9b857b2d",
   "metadata": {},
   "source": [
    "vendas_lojas = vendas_df.groupby('Nome da Loja').sum()\n",
    "vendas_lojas = vendas_lojas[['Quantidade Vendida']]\n",
    "display(vendas_lojas)\n"
   ]
  },
  {
   "cell_type": "raw",
   "id": "1a7051e4",
   "metadata": {},
   "source": [
    "#Ordenando o dataframe\n",
    "vendas_lojas = vendas_lojas.sort_values('Quantidade Vendida', ascending= False)\n",
    "display(vendas_lojas)\n",
    "#podmeos plotar em um gráfico\n",
    "vendas_lojas[:5].plot(figsize=(15,5), kind = 'bar')"
   ]
  },
  {
   "cell_type": "raw",
   "id": "b551d0c4",
   "metadata": {},
   "source": [
    "#pegando o maior valor e seu indice\n",
    "maior_valor = vendas_lojas['Quantidade Vendida'].max()\n",
    "melhor_loja = vendas_lojas['Quantidade Vendida'].idxmax()\n",
    "print(melhor_loja)\n",
    "print(maior_valor)"
   ]
  },
  {
   "cell_type": "raw",
   "id": "2b0ed3d5",
   "metadata": {},
   "source": [
    "#pegando o menor valor e seu indice, considerando a ordenação do dataframe de maior para menor\n",
    "vendas_lojas[-1:]"
   ]
  },
  {
   "cell_type": "markdown",
   "id": "4b843a80",
   "metadata": {},
   "source": [
    "## Aula 07"
   ]
  },
  {
   "cell_type": "raw",
   "id": "25e1f952",
   "metadata": {},
   "source": [
    "qtde_vendida = vendas_df['Quantidade Vendida'].sum()\n",
    "qtde_devolvida = vendas_df['Quantidade Devolvida'].sum()\n",
    "\n",
    "print('{:.2%}'.format(qtde_devolvida / qtde_vendida))"
   ]
  },
  {
   "cell_type": "raw",
   "id": "c4964005",
   "metadata": {},
   "source": [
    "vendas_lojacontosoeuropeonline = vendas_df[vendas_df['ID Loja'] == 306]\n",
    "display(vendas_lojacontosoeuropeonline)\n",
    "qtde_vendida = vendas_lojacontosoeuropeonline['Quantidade Vendida'].sum()\n",
    "qtde_devolvida = vendas_lojacontosoeuropeonline['Quantidade Devolvida'].sum()\n",
    "\n",
    "print('{:.2%}'.format(qtde_devolvida / qtde_vendida))"
   ]
  },
  {
   "cell_type": "raw",
   "id": "35e89222",
   "metadata": {},
   "source": [
    "#vendas_lojacontosoeuropeonline = vendas_df[vendas_df['ID Loja'] == 306]\n",
    "loja306 = vendas_df['ID Loja'] == 306\n",
    "vendas_lojacontosoeuropeonline = vendas_df[loja306]\n",
    "display(vendas_lojacontosoeuropeonline)"
   ]
  },
  {
   "cell_type": "raw",
   "id": "225b0cbd",
   "metadata": {},
   "source": [
    "#Filtrando Tudo junto\n",
    "df_loja306semdev = vendas_df[(vendas_df['ID Loja'] == 306) & (vendas_df['Quantidade Devolvida'] == 0)]\n",
    "display(df_loja306semdev)\n",
    "\n",
    "#Filtando Separado\n",
    "loja306 = vendas_df['ID Loja'] == 306\n",
    "qtde_devolvida_0 = vendas_df['Quantidade Devolvida'] == 0\n",
    "df2_loja306semdev = vendas_df[loja306 & qtde_devolvida_0]\n",
    "display(df2_loja306semdev)"
   ]
  },
  {
   "cell_type": "markdown",
   "id": "0f80675a",
   "metadata": {},
   "source": [
    "## Aula 08"
   ]
  },
  {
   "cell_type": "code",
   "execution_count": 49,
   "id": "caa97df4",
   "metadata": {},
   "outputs": [],
   "source": [
    "#modificando a coluna de data do dataframe\n",
    "vendas_df['Data da Venda'] = pd.to_datetime(vendas_df['Data da Venda'], format='%d/%m/%Y')\n",
    "vendas_df['Data do Envio'] = pd.to_datetime(vendas_df['Data do Envio'], format='%d/%m/%Y')\n",
    "#acrescentando colunas referente a data\n",
    "vendas_df['Ano da Venda'] = vendas_df['Data da Venda'].dt.year\n",
    "vendas_df['Mes da Venda'] = vendas_df['Data da Venda'].dt.month\n",
    "vendas_df['Dia da Venda'] = vendas_df['Data da Venda'].dt.day\n",
    "\n",
    "#display(vendas_df)\n",
    "#vendas_df.info()"
   ]
  },
  {
   "cell_type": "markdown",
   "id": "bba86122",
   "metadata": {},
   "source": [
    "## Aula 09"
   ]
  },
  {
   "cell_type": "code",
   "execution_count": 50,
   "id": "2ae0bf78",
   "metadata": {},
   "outputs": [
    {
     "data": {
      "text/html": [
       "<div>\n",
       "<style scoped>\n",
       "    .dataframe tbody tr th:only-of-type {\n",
       "        vertical-align: middle;\n",
       "    }\n",
       "\n",
       "    .dataframe tbody tr th {\n",
       "        vertical-align: top;\n",
       "    }\n",
       "\n",
       "    .dataframe thead th {\n",
       "        text-align: right;\n",
       "    }\n",
       "</style>\n",
       "<table border=\"1\" class=\"dataframe\">\n",
       "  <thead>\n",
       "    <tr style=\"text-align: right;\">\n",
       "      <th></th>\n",
       "      <th>Nome da Marca</th>\n",
       "      <th>Tipo</th>\n",
       "      <th>Custo Unitario</th>\n",
       "      <th>Preco Unitario</th>\n",
       "      <th>ID Produto</th>\n",
       "      <th>Categoria</th>\n",
       "    </tr>\n",
       "  </thead>\n",
       "  <tbody>\n",
       "    <tr>\n",
       "      <th>0</th>\n",
       "      <td>Contoso</td>\n",
       "      <td>Econômico</td>\n",
       "      <td>10,69</td>\n",
       "      <td>20,96</td>\n",
       "      <td>873</td>\n",
       "      <td>Acessório para Computador</td>\n",
       "    </tr>\n",
       "    <tr>\n",
       "      <th>1</th>\n",
       "      <td>Contoso</td>\n",
       "      <td>Econômico</td>\n",
       "      <td>6,63</td>\n",
       "      <td>13</td>\n",
       "      <td>879</td>\n",
       "      <td>Acessório para Computador</td>\n",
       "    </tr>\n",
       "    <tr>\n",
       "      <th>2</th>\n",
       "      <td>Contoso</td>\n",
       "      <td>Econômico</td>\n",
       "      <td>6,63</td>\n",
       "      <td>13</td>\n",
       "      <td>880</td>\n",
       "      <td>Acessório para Computador</td>\n",
       "    </tr>\n",
       "    <tr>\n",
       "      <th>3</th>\n",
       "      <td>Contoso</td>\n",
       "      <td>Econômico</td>\n",
       "      <td>6,63</td>\n",
       "      <td>13</td>\n",
       "      <td>881</td>\n",
       "      <td>Acessório para Computador</td>\n",
       "    </tr>\n",
       "    <tr>\n",
       "      <th>4</th>\n",
       "      <td>Contoso</td>\n",
       "      <td>Econômico</td>\n",
       "      <td>6,63</td>\n",
       "      <td>13</td>\n",
       "      <td>882</td>\n",
       "      <td>Acessório para Computador</td>\n",
       "    </tr>\n",
       "  </tbody>\n",
       "</table>\n",
       "</div>"
      ],
      "text/plain": [
       "  Nome da Marca       Tipo Custo Unitario Preco Unitario  ID Produto  \\\n",
       "0       Contoso  Econômico          10,69          20,96         873   \n",
       "1       Contoso  Econômico           6,63             13         879   \n",
       "2       Contoso  Econômico           6,63             13         880   \n",
       "3       Contoso  Econômico           6,63             13         881   \n",
       "4       Contoso  Econômico           6,63             13         882   \n",
       "\n",
       "                   Categoria  \n",
       "0  Acessório para Computador  \n",
       "1  Acessório para Computador  \n",
       "2  Acessório para Computador  \n",
       "3  Acessório para Computador  \n",
       "4  Acessório para Computador  "
      ]
     },
     "metadata": {},
     "output_type": "display_data"
    }
   ],
   "source": [
    "novo_produto_df = pd.read_csv(r'src/Contoso - Cadastro Produtos.csv', sep=';')\n",
    "display(novo_produto_df.head())"
   ]
  },
  {
   "cell_type": "code",
   "execution_count": 51,
   "id": "3448e3a6",
   "metadata": {},
   "outputs": [
    {
     "data": {
      "text/html": [
       "<div>\n",
       "<style scoped>\n",
       "    .dataframe tbody tr th:only-of-type {\n",
       "        vertical-align: middle;\n",
       "    }\n",
       "\n",
       "    .dataframe tbody tr th {\n",
       "        vertical-align: top;\n",
       "    }\n",
       "\n",
       "    .dataframe thead th {\n",
       "        text-align: right;\n",
       "    }\n",
       "</style>\n",
       "<table border=\"1\" class=\"dataframe\">\n",
       "  <thead>\n",
       "    <tr style=\"text-align: right;\">\n",
       "      <th></th>\n",
       "      <th>Nome da Marca</th>\n",
       "      <th>Tipo</th>\n",
       "      <th>Custo Unitario</th>\n",
       "      <th>Preco Unitario</th>\n",
       "      <th>Categoria</th>\n",
       "    </tr>\n",
       "    <tr>\n",
       "      <th>ID Produto</th>\n",
       "      <th></th>\n",
       "      <th></th>\n",
       "      <th></th>\n",
       "      <th></th>\n",
       "      <th></th>\n",
       "    </tr>\n",
       "  </thead>\n",
       "  <tbody>\n",
       "    <tr>\n",
       "      <th>873</th>\n",
       "      <td>Contoso</td>\n",
       "      <td>Econômico</td>\n",
       "      <td>10,69</td>\n",
       "      <td>20,96</td>\n",
       "      <td>Acessório para Computador</td>\n",
       "    </tr>\n",
       "    <tr>\n",
       "      <th>879</th>\n",
       "      <td>Contoso</td>\n",
       "      <td>Econômico</td>\n",
       "      <td>6,63</td>\n",
       "      <td>13</td>\n",
       "      <td>Acessório para Computador</td>\n",
       "    </tr>\n",
       "    <tr>\n",
       "      <th>880</th>\n",
       "      <td>Contoso</td>\n",
       "      <td>Econômico</td>\n",
       "      <td>6,63</td>\n",
       "      <td>13</td>\n",
       "      <td>Acessório para Computador</td>\n",
       "    </tr>\n",
       "    <tr>\n",
       "      <th>881</th>\n",
       "      <td>Contoso</td>\n",
       "      <td>Econômico</td>\n",
       "      <td>6,63</td>\n",
       "      <td>13</td>\n",
       "      <td>Acessório para Computador</td>\n",
       "    </tr>\n",
       "    <tr>\n",
       "      <th>882</th>\n",
       "      <td>Contoso</td>\n",
       "      <td>Econômico</td>\n",
       "      <td>6,63</td>\n",
       "      <td>13</td>\n",
       "      <td>Acessório para Computador</td>\n",
       "    </tr>\n",
       "  </tbody>\n",
       "</table>\n",
       "</div>"
      ],
      "text/plain": [
       "           Nome da Marca       Tipo Custo Unitario Preco Unitario  \\\n",
       "ID Produto                                                          \n",
       "873              Contoso  Econômico          10,69          20,96   \n",
       "879              Contoso  Econômico           6,63             13   \n",
       "880              Contoso  Econômico           6,63             13   \n",
       "881              Contoso  Econômico           6,63             13   \n",
       "882              Contoso  Econômico           6,63             13   \n",
       "\n",
       "                            Categoria  \n",
       "ID Produto                             \n",
       "873         Acessório para Computador  \n",
       "879         Acessório para Computador  \n",
       "880         Acessório para Computador  \n",
       "881         Acessório para Computador  \n",
       "882         Acessório para Computador  "
      ]
     },
     "metadata": {},
     "output_type": "display_data"
    },
    {
     "name": "stdout",
     "output_type": "stream",
     "text": [
      "13\n",
      "13\n"
     ]
    }
   ],
   "source": [
    "novo_produto_df = pd.read_csv(r'src/Contoso - Cadastro Produtos.csv', sep=';')\n",
    "novo_produto_df = novo_produto_df.set_index('ID Produto')\n",
    "display(novo_produto_df.head())\n",
    "\n",
    "\n",
    "#loc - passa o nome do indice da linha e o nome das colunas\n",
    "print(novo_produto_df.loc[880,'Preco Unitario'])\n",
    "\n",
    "#iloc\n",
    "print(novo_produto_df.iloc[2,3])"
   ]
  },
  {
   "cell_type": "code",
   "execution_count": 52,
   "id": "a95c0d0b",
   "metadata": {},
   "outputs": [
    {
     "data": {
      "text/html": [
       "<div>\n",
       "<style scoped>\n",
       "    .dataframe tbody tr th:only-of-type {\n",
       "        vertical-align: middle;\n",
       "    }\n",
       "\n",
       "    .dataframe tbody tr th {\n",
       "        vertical-align: top;\n",
       "    }\n",
       "\n",
       "    .dataframe thead th {\n",
       "        text-align: right;\n",
       "    }\n",
       "</style>\n",
       "<table border=\"1\" class=\"dataframe\">\n",
       "  <thead>\n",
       "    <tr style=\"text-align: right;\">\n",
       "      <th></th>\n",
       "      <th>Nome da Marca</th>\n",
       "      <th>Tipo</th>\n",
       "      <th>Custo Unitario</th>\n",
       "      <th>Preco Unitario</th>\n",
       "      <th>Categoria</th>\n",
       "    </tr>\n",
       "    <tr>\n",
       "      <th>ID Produto</th>\n",
       "      <th></th>\n",
       "      <th></th>\n",
       "      <th></th>\n",
       "      <th></th>\n",
       "      <th></th>\n",
       "    </tr>\n",
       "  </thead>\n",
       "  <tbody>\n",
       "    <tr>\n",
       "      <th>873</th>\n",
       "      <td>Contoso</td>\n",
       "      <td>Econômico</td>\n",
       "      <td>10,69</td>\n",
       "      <td>20,96</td>\n",
       "      <td>Acessório para Computador</td>\n",
       "    </tr>\n",
       "    <tr>\n",
       "      <th>879</th>\n",
       "      <td>Contoso</td>\n",
       "      <td>Econômico</td>\n",
       "      <td>6,63</td>\n",
       "      <td>13</td>\n",
       "      <td>Acessório para Computador</td>\n",
       "    </tr>\n",
       "    <tr>\n",
       "      <th>880</th>\n",
       "      <td>Contoso</td>\n",
       "      <td>Econômico</td>\n",
       "      <td>6,63</td>\n",
       "      <td>13</td>\n",
       "      <td>Acessório para Computador</td>\n",
       "    </tr>\n",
       "    <tr>\n",
       "      <th>881</th>\n",
       "      <td>Contoso</td>\n",
       "      <td>Econômico</td>\n",
       "      <td>6,63</td>\n",
       "      <td>13</td>\n",
       "      <td>Acessório para Computador</td>\n",
       "    </tr>\n",
       "    <tr>\n",
       "      <th>882</th>\n",
       "      <td>Contoso</td>\n",
       "      <td>Econômico</td>\n",
       "      <td>6,63</td>\n",
       "      <td>13</td>\n",
       "      <td>Acessório para Computador</td>\n",
       "    </tr>\n",
       "  </tbody>\n",
       "</table>\n",
       "</div>"
      ],
      "text/plain": [
       "           Nome da Marca       Tipo Custo Unitario Preco Unitario  \\\n",
       "ID Produto                                                          \n",
       "873              Contoso  Econômico          10,69          20,96   \n",
       "879              Contoso  Econômico           6,63             13   \n",
       "880              Contoso  Econômico           6,63             13   \n",
       "881              Contoso  Econômico           6,63             13   \n",
       "882              Contoso  Econômico           6,63             13   \n",
       "\n",
       "                            Categoria  \n",
       "ID Produto                             \n",
       "873         Acessório para Computador  \n",
       "879         Acessório para Computador  \n",
       "880         Acessório para Computador  \n",
       "881         Acessório para Computador  \n",
       "882         Acessório para Computador  "
      ]
     },
     "metadata": {},
     "output_type": "display_data"
    }
   ],
   "source": [
    "novo_produto_df.loc[880,'Preco Unitario'] = 23\n",
    "novo_produto_df.loc[novo_produto_df['ID Produto'] == 873, 'Preço Unitario'] = 23\n",
    "display(novo_produto_df.head())"
   ]
  },
  {
   "cell_type": "code",
   "execution_count": null,
   "id": "51360de5",
   "metadata": {},
   "outputs": [],
   "source": []
  }
 ],
 "metadata": {
  "kernelspec": {
   "display_name": "Python 3 (ipykernel)",
   "language": "python",
   "name": "python3"
  },
  "language_info": {
   "codemirror_mode": {
    "name": "ipython",
    "version": 3
   },
   "file_extension": ".py",
   "mimetype": "text/x-python",
   "name": "python",
   "nbconvert_exporter": "python",
   "pygments_lexer": "ipython3",
   "version": "3.9.12"
  }
 },
 "nbformat": 4,
 "nbformat_minor": 5
}
