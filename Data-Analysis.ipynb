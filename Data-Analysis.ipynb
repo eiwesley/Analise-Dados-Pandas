{
 "cells": [
  {
   "cell_type": "code",
   "execution_count": 1,
   "id": "7f1757fd",
   "metadata": {},
   "outputs": [],
   "source": [
    "import pandas as pd\n",
    "#importando os arquivos\n",
    "vendas_df = pd.read_csv(r'src/Contoso - Vendas  - 2017.csv', sep=';')\n",
    "clientes_df = pd.read_csv(r'src/Contoso - Clientes.csv', sep=';')\n",
    "produtos_df = pd.read_csv(r'src/Contoso - Cadastro Produtos.csv', sep=';')\n",
    "lojas_df = pd.read_csv(r'src/Contoso - Lojas.csv', sep=';')\n",
    "promocoes_df = pd.read_csv(r'src/Contoso - Promocoes.csv', sep=';')\n",
    "\n",
    "#limpando apenas as colunas que queremos\n",
    "clientes_df = clientes_df[['ID Cliente', 'E-mail']]\n",
    "produtos_df = produtos_df[['ID Produto', 'Categoria']]\n",
    "lojas_df = lojas_df[['ID Loja', 'Nome da Loja']]\n",
    "\n",
    "#mesclando e renomeando os dataframes\n",
    "vendas_df = vendas_df.merge(produtos_df, on='ID Produto')\n",
    "vendas_df = vendas_df.merge(lojas_df, on='ID Loja')\n",
    "vendas_df = vendas_df.merge(clientes_df, on='ID Cliente')\n",
    "vendas_df = vendas_df.rename(columns={'E-mail': 'E-mail do Cliente'})\n",
    "#display(vendas_df)"
   ]
  },
  {
   "cell_type": "markdown",
   "id": "629c423e",
   "metadata": {},
   "source": [
    "## Aula 06"
   ]
  },
  {
   "cell_type": "raw",
   "id": "0c836195",
   "metadata": {},
   "source": [
    "frequencia_clientes = vendas_df['E-mail do Cliente'].value_counts()\n",
    "display(frequencia_clientes)\n",
    "frequencia_clientes[:5].plot(figsize=(15,5))"
   ]
  },
  {
   "cell_type": "raw",
   "id": "9b857b2d",
   "metadata": {},
   "source": [
    "vendas_lojas = vendas_df.groupby('Nome da Loja').sum()\n",
    "vendas_lojas = vendas_lojas[['Quantidade Vendida']]\n",
    "display(vendas_lojas)\n"
   ]
  },
  {
   "cell_type": "raw",
   "id": "1a7051e4",
   "metadata": {},
   "source": [
    "#Ordenando o dataframe\n",
    "vendas_lojas = vendas_lojas.sort_values('Quantidade Vendida', ascending= False)\n",
    "display(vendas_lojas)\n",
    "#podmeos plotar em um gráfico\n",
    "vendas_lojas[:5].plot(figsize=(15,5), kind = 'bar')"
   ]
  },
  {
   "cell_type": "raw",
   "id": "b551d0c4",
   "metadata": {},
   "source": [
    "#pegando o maior valor e seu indice\n",
    "maior_valor = vendas_lojas['Quantidade Vendida'].max()\n",
    "melhor_loja = vendas_lojas['Quantidade Vendida'].idxmax()\n",
    "print(melhor_loja)\n",
    "print(maior_valor)"
   ]
  },
  {
   "cell_type": "raw",
   "id": "2b0ed3d5",
   "metadata": {},
   "source": [
    "#pegando o menor valor e seu indice, considerando a ordenação do dataframe de maior para menor\n",
    "vendas_lojas[-1:]"
   ]
  },
  {
   "cell_type": "markdown",
   "id": "4b843a80",
   "metadata": {},
   "source": [
    "## Aula 07"
   ]
  },
  {
   "cell_type": "raw",
   "id": "25e1f952",
   "metadata": {},
   "source": [
    "qtde_vendida = vendas_df['Quantidade Vendida'].sum()\n",
    "qtde_devolvida = vendas_df['Quantidade Devolvida'].sum()\n",
    "\n",
    "print('{:.2%}'.format(qtde_devolvida / qtde_vendida))"
   ]
  },
  {
   "cell_type": "raw",
   "id": "c4964005",
   "metadata": {},
   "source": [
    "vendas_lojacontosoeuropeonline = vendas_df[vendas_df['ID Loja'] == 306]\n",
    "display(vendas_lojacontosoeuropeonline)\n",
    "qtde_vendida = vendas_lojacontosoeuropeonline['Quantidade Vendida'].sum()\n",
    "qtde_devolvida = vendas_lojacontosoeuropeonline['Quantidade Devolvida'].sum()\n",
    "\n",
    "print('{:.2%}'.format(qtde_devolvida / qtde_vendida))"
   ]
  },
  {
   "cell_type": "raw",
   "id": "35e89222",
   "metadata": {},
   "source": [
    "#vendas_lojacontosoeuropeonline = vendas_df[vendas_df['ID Loja'] == 306]\n",
    "loja306 = vendas_df['ID Loja'] == 306\n",
    "vendas_lojacontosoeuropeonline = vendas_df[loja306]\n",
    "display(vendas_lojacontosoeuropeonline)"
   ]
  },
  {
   "cell_type": "raw",
   "id": "225b0cbd",
   "metadata": {},
   "source": [
    "#Filtrando Tudo junto\n",
    "df_loja306semdev = vendas_df[(vendas_df['ID Loja'] == 306) & (vendas_df['Quantidade Devolvida'] == 0)]\n",
    "display(df_loja306semdev)\n",
    "\n",
    "#Filtando Separado\n",
    "loja306 = vendas_df['ID Loja'] == 306\n",
    "qtde_devolvida_0 = vendas_df['Quantidade Devolvida'] == 0\n",
    "df2_loja306semdev = vendas_df[loja306 & qtde_devolvida_0]\n",
    "display(df2_loja306semdev)"
   ]
  },
  {
   "cell_type": "markdown",
   "id": "0f80675a",
   "metadata": {},
   "source": [
    "## Aula 08"
   ]
  },
  {
   "cell_type": "raw",
   "id": "bdcc5643",
   "metadata": {},
   "source": [
    "#modificando a coluna de data do dataframe\n",
    "vendas_df['Data da Venda'] = pd.to_datetime(vendas_df['Data da Venda'], format='%d/%m/%Y')\n",
    "vendas_df['Data do Envio'] = pd.to_datetime(vendas_df['Data do Envio'], format='%d/%m/%Y')\n",
    "#acrescentando colunas referente a data\n",
    "vendas_df['Ano da Venda'] = vendas_df['Data da Venda'].dt.year\n",
    "vendas_df['Mes da Venda'] = vendas_df['Data da Venda'].dt.month\n",
    "vendas_df['Dia da Venda'] = vendas_df['Data da Venda'].dt.day\n",
    "\n",
    "#display(vendas_df)\n",
    "#vendas_df.info()"
   ]
  },
  {
   "cell_type": "markdown",
   "id": "bba86122",
   "metadata": {},
   "source": [
    "## Aula 09"
   ]
  },
  {
   "cell_type": "raw",
   "id": "d1f89140",
   "metadata": {},
   "source": [
    "novo_produto_df = pd.read_csv(r'src/Contoso - Cadastro Produtos.csv', sep=';')\n",
    "display(novo_produto_df.head())"
   ]
  },
  {
   "cell_type": "raw",
   "id": "43112e6c",
   "metadata": {},
   "source": [
    "novo_produto_df = pd.read_csv(r'src/Contoso - Cadastro Produtos.csv', sep=';')\n",
    "novo_produto_df = novo_produto_df.set_index('ID Produto')\n",
    "display(novo_produto_df.head())\n",
    "\n",
    "\n",
    "#loc - passa o nome do indice da linha e o nome das colunas\n",
    "print(novo_produto_df.loc[880,'Preco Unitario'])\n",
    "\n",
    "#iloc\n",
    "print(novo_produto_df.iloc[2,3])"
   ]
  },
  {
   "cell_type": "raw",
   "id": "22ee1df6",
   "metadata": {},
   "source": [
    "novo_produto_df.loc[880,'Preco Unitario'] = 23\n",
    "novo_produto_df.loc[novo_produto_df['ID Produto'] == 873, 'Preço Unitario'] = 23\n",
    "display(novo_produto_df.head())"
   ]
  },
  {
   "cell_type": "markdown",
   "id": "dfbde683",
   "metadata": {},
   "source": [
    "## Aula 10"
   ]
  },
  {
   "cell_type": "code",
   "execution_count": null,
   "id": "edf567c2",
   "metadata": {},
   "outputs": [],
   "source": [
    "#exportando os novos dados para um novo arquivo em csv\n",
    "vendas_df.to_csv(r'src/Novo Vendas 2017.csv', sep=';')"
   ]
  },
  {
   "cell_type": "code",
   "execution_count": 5,
   "id": "73aedc01",
   "metadata": {},
   "outputs": [],
   "source": [
    "#exportando os dados de um dicionario para um novo arquivo em csv\n",
    "vendas_produtos = {'iphone': [558147, 951642], 'galaxy': [712350, 244295], 'ipad': [573823, 26964], 'tv': [405252, 787604], 'máquina de café': [718654, 867660], 'kindle': [531580, 78830], 'geladeira': [973139, 710331], 'adega': [892292, 646016], 'notebook dell': [422760, 694913], 'notebook hp': [154753, 539704], 'notebook asus': [887061, 324831], 'microsoft surface': [438508, 667179], 'webcam': [237467, 295633], 'caixa de som': [489705, 725316], 'microfone': [328311, 644622], 'câmera canon': [591120, 994303]}\n",
    "\n",
    "vendas_produtos_df = pd.DataFrame.from_dict(vendas_produtos, orient='index')\n",
    "vendas_produtos_df = vendas_produtos_df.rename(columns={0: 'Vendas 2019', 1: 'Vendas 2020'})\n",
    "\n",
    "vendas_produtos_df.to_csv(r'src/Novo Vendas Produtos.csv', sep=';', encoding='latin1')"
   ]
  },
  {
   "cell_type": "code",
   "execution_count": null,
   "id": "3e712d97",
   "metadata": {},
   "outputs": [],
   "source": []
  }
 ],
 "metadata": {
  "kernelspec": {
   "display_name": "Python 3 (ipykernel)",
   "language": "python",
   "name": "python3"
  },
  "language_info": {
   "codemirror_mode": {
    "name": "ipython",
    "version": 3
   },
   "file_extension": ".py",
   "mimetype": "text/x-python",
   "name": "python",
   "nbconvert_exporter": "python",
   "pygments_lexer": "ipython3",
   "version": "3.9.12"
  }
 },
 "nbformat": 4,
 "nbformat_minor": 5
}
